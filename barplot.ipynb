{
 "cells": [
  {
   "cell_type": "markdown",
   "metadata": {},
   "source": [
    "Sütun grafikler(barplot) categoric değişkenleri görselleştirmek için kullanılır."
   ]
  },
  {
   "cell_type": "code",
   "execution_count": 1,
   "metadata": {},
   "outputs": [
    {
     "data": {
      "text/html": [
       "<div>\n",
       "<style scoped>\n",
       "    .dataframe tbody tr th:only-of-type {\n",
       "        vertical-align: middle;\n",
       "    }\n",
       "\n",
       "    .dataframe tbody tr th {\n",
       "        vertical-align: top;\n",
       "    }\n",
       "\n",
       "    .dataframe thead th {\n",
       "        text-align: right;\n",
       "    }\n",
       "</style>\n",
       "<table border=\"1\" class=\"dataframe\">\n",
       "  <thead>\n",
       "    <tr style=\"text-align: right;\">\n",
       "      <th></th>\n",
       "      <th>carat</th>\n",
       "      <th>cut</th>\n",
       "      <th>color</th>\n",
       "      <th>clarity</th>\n",
       "      <th>depth</th>\n",
       "      <th>table</th>\n",
       "      <th>price</th>\n",
       "      <th>x</th>\n",
       "      <th>y</th>\n",
       "      <th>z</th>\n",
       "    </tr>\n",
       "  </thead>\n",
       "  <tbody>\n",
       "    <tr>\n",
       "      <th>0</th>\n",
       "      <td>0.23</td>\n",
       "      <td>Ideal</td>\n",
       "      <td>E</td>\n",
       "      <td>SI2</td>\n",
       "      <td>61.5</td>\n",
       "      <td>55.0</td>\n",
       "      <td>326</td>\n",
       "      <td>3.95</td>\n",
       "      <td>3.98</td>\n",
       "      <td>2.43</td>\n",
       "    </tr>\n",
       "    <tr>\n",
       "      <th>1</th>\n",
       "      <td>0.21</td>\n",
       "      <td>Premium</td>\n",
       "      <td>E</td>\n",
       "      <td>SI1</td>\n",
       "      <td>59.8</td>\n",
       "      <td>61.0</td>\n",
       "      <td>326</td>\n",
       "      <td>3.89</td>\n",
       "      <td>3.84</td>\n",
       "      <td>2.31</td>\n",
       "    </tr>\n",
       "    <tr>\n",
       "      <th>2</th>\n",
       "      <td>0.23</td>\n",
       "      <td>Good</td>\n",
       "      <td>E</td>\n",
       "      <td>VS1</td>\n",
       "      <td>56.9</td>\n",
       "      <td>65.0</td>\n",
       "      <td>327</td>\n",
       "      <td>4.05</td>\n",
       "      <td>4.07</td>\n",
       "      <td>2.31</td>\n",
       "    </tr>\n",
       "    <tr>\n",
       "      <th>3</th>\n",
       "      <td>0.29</td>\n",
       "      <td>Premium</td>\n",
       "      <td>I</td>\n",
       "      <td>VS2</td>\n",
       "      <td>62.4</td>\n",
       "      <td>58.0</td>\n",
       "      <td>334</td>\n",
       "      <td>4.20</td>\n",
       "      <td>4.23</td>\n",
       "      <td>2.63</td>\n",
       "    </tr>\n",
       "    <tr>\n",
       "      <th>4</th>\n",
       "      <td>0.31</td>\n",
       "      <td>Good</td>\n",
       "      <td>J</td>\n",
       "      <td>SI2</td>\n",
       "      <td>63.3</td>\n",
       "      <td>58.0</td>\n",
       "      <td>335</td>\n",
       "      <td>4.34</td>\n",
       "      <td>4.35</td>\n",
       "      <td>2.75</td>\n",
       "    </tr>\n",
       "  </tbody>\n",
       "</table>\n",
       "</div>"
      ],
      "text/plain": [
       "   carat      cut color clarity  depth  table  price     x     y     z\n",
       "0   0.23    Ideal     E     SI2   61.5   55.0    326  3.95  3.98  2.43\n",
       "1   0.21  Premium     E     SI1   59.8   61.0    326  3.89  3.84  2.31\n",
       "2   0.23     Good     E     VS1   56.9   65.0    327  4.05  4.07  2.31\n",
       "3   0.29  Premium     I     VS2   62.4   58.0    334  4.20  4.23  2.63\n",
       "4   0.31     Good     J     SI2   63.3   58.0    335  4.34  4.35  2.75"
      ]
     },
     "execution_count": 1,
     "metadata": {},
     "output_type": "execute_result"
    }
   ],
   "source": [
    "import seaborn as sns\n",
    "diamonds = sns.load_dataset('diamonds')\n",
    "df=diamonds.copy()\n",
    "df.head()\n"
   ]
  },
  {
   "cell_type": "code",
   "execution_count": 2,
   "metadata": {},
   "outputs": [
    {
     "name": "stdout",
     "output_type": "stream",
     "text": [
      "<class 'pandas.core.frame.DataFrame'>\n",
      "RangeIndex: 53940 entries, 0 to 53939\n",
      "Data columns (total 10 columns):\n",
      " #   Column   Non-Null Count  Dtype   \n",
      "---  ------   --------------  -----   \n",
      " 0   carat    53940 non-null  float64 \n",
      " 1   cut      53940 non-null  category\n",
      " 2   color    53940 non-null  category\n",
      " 3   clarity  53940 non-null  category\n",
      " 4   depth    53940 non-null  float64 \n",
      " 5   table    53940 non-null  float64 \n",
      " 6   price    53940 non-null  int64   \n",
      " 7   x        53940 non-null  float64 \n",
      " 8   y        53940 non-null  float64 \n",
      " 9   z        53940 non-null  float64 \n",
      "dtypes: category(3), float64(6), int64(1)\n",
      "memory usage: 3.0 MB\n"
     ]
    }
   ],
   "source": [
    "df.info()"
   ]
  },
  {
   "cell_type": "code",
   "execution_count": 3,
   "metadata": {},
   "outputs": [
    {
     "data": {
      "text/html": [
       "<div>\n",
       "<style scoped>\n",
       "    .dataframe tbody tr th:only-of-type {\n",
       "        vertical-align: middle;\n",
       "    }\n",
       "\n",
       "    .dataframe tbody tr th {\n",
       "        vertical-align: top;\n",
       "    }\n",
       "\n",
       "    .dataframe thead th {\n",
       "        text-align: right;\n",
       "    }\n",
       "</style>\n",
       "<table border=\"1\" class=\"dataframe\">\n",
       "  <thead>\n",
       "    <tr style=\"text-align: right;\">\n",
       "      <th></th>\n",
       "      <th>count</th>\n",
       "      <th>mean</th>\n",
       "      <th>std</th>\n",
       "      <th>min</th>\n",
       "      <th>25%</th>\n",
       "      <th>50%</th>\n",
       "      <th>75%</th>\n",
       "      <th>max</th>\n",
       "    </tr>\n",
       "  </thead>\n",
       "  <tbody>\n",
       "    <tr>\n",
       "      <th>carat</th>\n",
       "      <td>53940.0</td>\n",
       "      <td>0.797940</td>\n",
       "      <td>0.474011</td>\n",
       "      <td>0.2</td>\n",
       "      <td>0.40</td>\n",
       "      <td>0.70</td>\n",
       "      <td>1.04</td>\n",
       "      <td>5.01</td>\n",
       "    </tr>\n",
       "    <tr>\n",
       "      <th>depth</th>\n",
       "      <td>53940.0</td>\n",
       "      <td>61.749405</td>\n",
       "      <td>1.432621</td>\n",
       "      <td>43.0</td>\n",
       "      <td>61.00</td>\n",
       "      <td>61.80</td>\n",
       "      <td>62.50</td>\n",
       "      <td>79.00</td>\n",
       "    </tr>\n",
       "    <tr>\n",
       "      <th>table</th>\n",
       "      <td>53940.0</td>\n",
       "      <td>57.457184</td>\n",
       "      <td>2.234491</td>\n",
       "      <td>43.0</td>\n",
       "      <td>56.00</td>\n",
       "      <td>57.00</td>\n",
       "      <td>59.00</td>\n",
       "      <td>95.00</td>\n",
       "    </tr>\n",
       "    <tr>\n",
       "      <th>price</th>\n",
       "      <td>53940.0</td>\n",
       "      <td>3932.799722</td>\n",
       "      <td>3989.439738</td>\n",
       "      <td>326.0</td>\n",
       "      <td>950.00</td>\n",
       "      <td>2401.00</td>\n",
       "      <td>5324.25</td>\n",
       "      <td>18823.00</td>\n",
       "    </tr>\n",
       "    <tr>\n",
       "      <th>x</th>\n",
       "      <td>53940.0</td>\n",
       "      <td>5.731157</td>\n",
       "      <td>1.121761</td>\n",
       "      <td>0.0</td>\n",
       "      <td>4.71</td>\n",
       "      <td>5.70</td>\n",
       "      <td>6.54</td>\n",
       "      <td>10.74</td>\n",
       "    </tr>\n",
       "    <tr>\n",
       "      <th>y</th>\n",
       "      <td>53940.0</td>\n",
       "      <td>5.734526</td>\n",
       "      <td>1.142135</td>\n",
       "      <td>0.0</td>\n",
       "      <td>4.72</td>\n",
       "      <td>5.71</td>\n",
       "      <td>6.54</td>\n",
       "      <td>58.90</td>\n",
       "    </tr>\n",
       "    <tr>\n",
       "      <th>z</th>\n",
       "      <td>53940.0</td>\n",
       "      <td>3.538734</td>\n",
       "      <td>0.705699</td>\n",
       "      <td>0.0</td>\n",
       "      <td>2.91</td>\n",
       "      <td>3.53</td>\n",
       "      <td>4.04</td>\n",
       "      <td>31.80</td>\n",
       "    </tr>\n",
       "  </tbody>\n",
       "</table>\n",
       "</div>"
      ],
      "text/plain": [
       "         count         mean          std    min     25%      50%      75%   \n",
       "carat  53940.0     0.797940     0.474011    0.2    0.40     0.70     1.04  \\\n",
       "depth  53940.0    61.749405     1.432621   43.0   61.00    61.80    62.50   \n",
       "table  53940.0    57.457184     2.234491   43.0   56.00    57.00    59.00   \n",
       "price  53940.0  3932.799722  3989.439738  326.0  950.00  2401.00  5324.25   \n",
       "x      53940.0     5.731157     1.121761    0.0    4.71     5.70     6.54   \n",
       "y      53940.0     5.734526     1.142135    0.0    4.72     5.71     6.54   \n",
       "z      53940.0     3.538734     0.705699    0.0    2.91     3.53     4.04   \n",
       "\n",
       "            max  \n",
       "carat      5.01  \n",
       "depth     79.00  \n",
       "table     95.00  \n",
       "price  18823.00  \n",
       "x         10.74  \n",
       "y         58.90  \n",
       "z         31.80  "
      ]
     },
     "execution_count": 3,
     "metadata": {},
     "output_type": "execute_result"
    }
   ],
   "source": [
    "df.describe().T"
   ]
  },
  {
   "cell_type": "code",
   "execution_count": 4,
   "metadata": {},
   "outputs": [
    {
     "data": {
      "text/plain": [
       "color\n",
       "G    11292\n",
       "E     9797\n",
       "F     9542\n",
       "H     8304\n",
       "D     6775\n",
       "I     5422\n",
       "J     2808\n",
       "Name: count, dtype: int64"
      ]
     },
     "execution_count": 4,
     "metadata": {},
     "output_type": "execute_result"
    }
   ],
   "source": [
    "df[\"color\"].value_counts()"
   ]
  },
  {
   "cell_type": "code",
   "execution_count": 5,
   "metadata": {},
   "outputs": [],
   "source": [
    "#ordinal tanımlama, kategorik veri tipine dönüştürmek için gerekli sınıf\n",
    "from pandas.api.types import CategoricalDtype"
   ]
  },
  {
   "cell_type": "code",
   "execution_count": 6,
   "metadata": {},
   "outputs": [
    {
     "data": {
      "text/plain": [
       "0      Ideal\n",
       "1    Premium\n",
       "2       Good\n",
       "3    Premium\n",
       "4       Good\n",
       "Name: cut, dtype: category\n",
       "Categories (5, object): ['Ideal', 'Premium', 'Very Good', 'Good', 'Fair']"
      ]
     },
     "execution_count": 6,
     "metadata": {},
     "output_type": "execute_result"
    }
   ],
   "source": [
    "df.cut.head()"
   ]
  },
  {
   "cell_type": "code",
   "execution_count": 7,
   "metadata": {},
   "outputs": [],
   "source": [
    "df.cut= df.cut.astype(CategoricalDtype(ordered=True))"
   ]
  },
  {
   "cell_type": "code",
   "execution_count": 10,
   "metadata": {},
   "outputs": [
    {
     "data": {
      "text/plain": [
       "0      Ideal\n",
       "1    Premium\n",
       "2       Good\n",
       "3    Premium\n",
       "4       Good\n",
       "Name: cut, dtype: category\n",
       "Categories (5, object): ['Ideal' < 'Premium' < 'Very Good' < 'Good' < 'Fair']"
      ]
     },
     "execution_count": 10,
     "metadata": {},
     "output_type": "execute_result"
    }
   ],
   "source": [
    "df.cut.head()"
   ]
  },
  {
   "cell_type": "markdown",
   "metadata": {},
   "source": [
    "veri hikayesine göre yanlış sıralama yaptığı için düzeltiyoruz. ve veriyi görselleştirmeye hazır hale getiriyoruz."
   ]
  },
  {
   "cell_type": "code",
   "execution_count": 11,
   "metadata": {},
   "outputs": [],
   "source": [
    "cut_kategoriler=[\"Fair\",\"Good\",\"Very Good\", \"Premium\",\"Ideal\"]\n"
   ]
  },
  {
   "cell_type": "code",
   "execution_count": 12,
   "metadata": {},
   "outputs": [],
   "source": [
    "df.cut=df.cut.astype(CategoricalDtype(categories=cut_kategoriler,ordered=True))"
   ]
  },
  {
   "cell_type": "code",
   "execution_count": 13,
   "metadata": {},
   "outputs": [
    {
     "data": {
      "text/plain": [
       "0    Ideal\n",
       "Name: cut, dtype: category\n",
       "Categories (5, object): ['Fair' < 'Good' < 'Very Good' < 'Premium' < 'Ideal']"
      ]
     },
     "execution_count": 13,
     "metadata": {},
     "output_type": "execute_result"
    }
   ],
   "source": [
    "df.cut.head(1)"
   ]
  },
  {
   "cell_type": "code",
   "execution_count": 24,
   "metadata": {},
   "outputs": [
    {
     "data": {
      "image/png": "[encoded data removed]",
      "text/plain": [
       "<Figure size 640x480 with 1 Axes>"
      ]
     },
     "metadata": {},
     "output_type": "display_data"
    }
   ],
   "source": [
    "#pandas ile\n",
    "(df[\"cut\"]\n",
    ".value_counts()\n",
    ".plot.barh()\n",
    ".set_title(\"Cut Değişkeninin Sınıf Frekansları\"));"
   ]
  },
  {
   "cell_type": "code",
   "execution_count": 19,
   "metadata": {},
   "outputs": [
    {
     "data": {
      "image/png": "[encoded data removed]",
      "text/plain": [
       "<Figure size 640x480 with 1 Axes>"
      ]
     },
     "metadata": {},
     "output_type": "display_data"
    }
   ],
   "source": [
    "#senborn library\n",
    "sns.barplot(x=\"cut\", y=df.cut.index, data=df);"
   ]
  },
  {
   "cell_type": "markdown",
   "metadata": {},
   "source": [
    "Çaprazlamalar"
   ]
  },
  {
   "cell_type": "code",
   "execution_count": 29,
   "metadata": {},
   "outputs": [
    {
     "data": {
      "image/png": "[encoded data removed]",
      "text/plain": [
       "<Figure size 511.111x500 with 1 Axes>"
      ]
     },
     "metadata": {},
     "output_type": "display_data"
    }
   ],
   "source": [
    "#cut ve price bir arada değerlendirilecek\n",
    "sns.catplot(x=\"cut\", y=\"price\", data=df);"
   ]
  },
  {
   "cell_type": "code",
   "execution_count": 27,
   "metadata": {},
   "outputs": [
    {
     "data": {
      "text/plain": [
       "<Axes: xlabel='cut', ylabel='price'>"
      ]
     },
     "execution_count": 27,
     "metadata": {},
     "output_type": "execute_result"
    },
    {
     "data": {
      "image/png": "[encoded data removed]",
      "text/plain": [
       "<Figure size 640x480 with 1 Axes>"
      ]
     },
     "metadata": {},
     "output_type": "display_data"
    }
   ],
   "source": [
    "#boyut ekleme\n",
    "sns.barplot(x=\"cut\", y=\"price\", hue=\"color\", data=df)"
   ]
  },
  {
   "cell_type": "code",
   "execution_count": 22,
   "metadata": {},
   "outputs": [
    {
     "data": {
      "text/plain": [
       "cut        color\n",
       "Fair       D        4291.061350\n",
       "           E        3682.312500\n",
       "           F        3827.003205\n",
       "           G        4239.254777\n",
       "           H        5135.683168\n",
       "           I        4685.445714\n",
       "           J        4975.655462\n",
       "Good       D        3405.382175\n",
       "           E        3423.644159\n",
       "           F        3495.750275\n",
       "           G        4123.482204\n",
       "           H        4276.254986\n",
       "           I        5078.532567\n",
       "           J        4574.172638\n",
       "Very Good  D        3470.467284\n",
       "           E        3214.652083\n",
       "           F        3778.820240\n",
       "           G        3872.753806\n",
       "           H        4535.390351\n",
       "           I        5255.879568\n",
       "           J        5103.513274\n",
       "Premium    D        3631.292576\n",
       "           E        3538.914420\n",
       "           F        4324.890176\n",
       "           G        4500.742134\n",
       "           H        5216.706780\n",
       "           I        5946.180672\n",
       "           J        6294.591584\n",
       "Ideal      D        2629.094566\n",
       "           E        2597.550090\n",
       "           F        3374.939362\n",
       "           G        3720.706388\n",
       "           H        3889.334831\n",
       "           I        4451.970377\n",
       "           J        4918.186384\n",
       "Name: price, dtype: float64"
      ]
     },
     "execution_count": 22,
     "metadata": {},
     "output_type": "execute_result"
    }
   ],
   "source": [
    "#doğrulama yapmak için\n",
    "df.groupby([\"cut\",\"color\"])[\"price\"].mean()"
   ]
  },
  {
   "cell_type": "code",
   "execution_count": 30,
   "metadata": {},
   "outputs": [
    {
     "data": {
      "text/html": [
       "<div>\n",
       "<style scoped>\n",
       "    .dataframe tbody tr th:only-of-type {\n",
       "        vertical-align: middle;\n",
       "    }\n",
       "\n",
       "    .dataframe tbody tr th {\n",
       "        vertical-align: top;\n",
       "    }\n",
       "\n",
       "    .dataframe thead th {\n",
       "        text-align: right;\n",
       "    }\n",
       "</style>\n",
       "<table border=\"1\" class=\"dataframe\">\n",
       "  <thead>\n",
       "    <tr style=\"text-align: right;\">\n",
       "      <th>color</th>\n",
       "      <th>D</th>\n",
       "      <th>E</th>\n",
       "      <th>F</th>\n",
       "      <th>G</th>\n",
       "      <th>H</th>\n",
       "      <th>I</th>\n",
       "      <th>J</th>\n",
       "    </tr>\n",
       "    <tr>\n",
       "      <th>cut</th>\n",
       "      <th></th>\n",
       "      <th></th>\n",
       "      <th></th>\n",
       "      <th></th>\n",
       "      <th></th>\n",
       "      <th></th>\n",
       "      <th></th>\n",
       "    </tr>\n",
       "  </thead>\n",
       "  <tbody>\n",
       "    <tr>\n",
       "      <th>Fair</th>\n",
       "      <td>4291.061350</td>\n",
       "      <td>3682.312500</td>\n",
       "      <td>3827.003205</td>\n",
       "      <td>4239.254777</td>\n",
       "      <td>5135.683168</td>\n",
       "      <td>4685.445714</td>\n",
       "      <td>4975.655462</td>\n",
       "    </tr>\n",
       "    <tr>\n",
       "      <th>Good</th>\n",
       "      <td>3405.382175</td>\n",
       "      <td>3423.644159</td>\n",
       "      <td>3495.750275</td>\n",
       "      <td>4123.482204</td>\n",
       "      <td>4276.254986</td>\n",
       "      <td>5078.532567</td>\n",
       "      <td>4574.172638</td>\n",
       "    </tr>\n",
       "    <tr>\n",
       "      <th>Very Good</th>\n",
       "      <td>3470.467284</td>\n",
       "      <td>3214.652083</td>\n",
       "      <td>3778.820240</td>\n",
       "      <td>3872.753806</td>\n",
       "      <td>4535.390351</td>\n",
       "      <td>5255.879568</td>\n",
       "      <td>5103.513274</td>\n",
       "    </tr>\n",
       "    <tr>\n",
       "      <th>Premium</th>\n",
       "      <td>3631.292576</td>\n",
       "      <td>3538.914420</td>\n",
       "      <td>4324.890176</td>\n",
       "      <td>4500.742134</td>\n",
       "      <td>5216.706780</td>\n",
       "      <td>5946.180672</td>\n",
       "      <td>6294.591584</td>\n",
       "    </tr>\n",
       "    <tr>\n",
       "      <th>Ideal</th>\n",
       "      <td>2629.094566</td>\n",
       "      <td>2597.550090</td>\n",
       "      <td>3374.939362</td>\n",
       "      <td>3720.706388</td>\n",
       "      <td>3889.334831</td>\n",
       "      <td>4451.970377</td>\n",
       "      <td>4918.186384</td>\n",
       "    </tr>\n",
       "  </tbody>\n",
       "</table>\n",
       "</div>"
      ],
      "text/plain": [
       "color                D            E            F            G            H   \n",
       "cut                                                                          \n",
       "Fair       4291.061350  3682.312500  3827.003205  4239.254777  5135.683168  \\\n",
       "Good       3405.382175  3423.644159  3495.750275  4123.482204  4276.254986   \n",
       "Very Good  3470.467284  3214.652083  3778.820240  3872.753806  4535.390351   \n",
       "Premium    3631.292576  3538.914420  4324.890176  4500.742134  5216.706780   \n",
       "Ideal      2629.094566  2597.550090  3374.939362  3720.706388  3889.334831   \n",
       "\n",
       "color                I            J  \n",
       "cut                                  \n",
       "Fair       4685.445714  4975.655462  \n",
       "Good       5078.532567  4574.172638  \n",
       "Very Good  5255.879568  5103.513274  \n",
       "Premium    5946.180672  6294.591584  \n",
       "Ideal      4451.970377  4918.186384  "
      ]
     },
     "execution_count": 30,
     "metadata": {},
     "output_type": "execute_result"
    }
   ],
   "source": [
    "df.groupby([\"cut\",\"color\"])[\"price\"].mean().unstack()"
   ]
  }
 ],
 "metadata": {
  "kernelspec": {
   "display_name": "Python 3",
   "language": "python",
   "name": "python3"
  },
  "language_info": {
   "codemirror_mode": {
    "name": "ipython",
    "version": 3
   },
   "file_extension": ".py",
   "mimetype": "text/x-python",
   "name": "python",
   "nbconvert_exporter": "python",
   "pygments_lexer": "ipython3",
   "version": "3.11.1"
  }
 },
 "nbformat": 4,
 "nbformat_minor": 2
}
